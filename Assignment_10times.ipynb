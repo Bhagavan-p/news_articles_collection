{
 "cells": [
  {
   "cell_type": "code",
   "execution_count": 1,
   "id": "51568f19-1004-431e-93c0-91d492e430be",
   "metadata": {},
   "outputs": [],
   "source": [
    "# pip install feedparser SQLAlchemy pymysql celery spacy nltk"
   ]
  },
  {
   "cell_type": "code",
   "execution_count": 144,
   "id": "50e048b8-c178-4b5f-8110-a144c10384a2",
   "metadata": {},
   "outputs": [],
   "source": [
    "import feedparser\n",
    "import logging\n",
    "from datetime import datetime\n",
    "from email.utils import parsedate_to_datetime\n",
    "\n",
    "# Example RSS feed URLs\n",
    "rss_feeds = [\n",
    "    \"http://rss.cnn.com/rss/cnn_topstories.rss\",\n",
    "    \"http://qz.com/feed\",\n",
    "    \"http://feeds.foxnews.com/foxnews/politics\",\n",
    "    \"http://feeds.reuters.com/reuters/businessNews\",\n",
    "    \"http://feeds.feedburner.com/NewshourWorld\",\n",
    "    \"https://feeds.bbci.co.uk/news/world/asia/india/rss.xml\"\n",
    "]\n",
    "\n",
    "def fetch_articles(feed_url):\n",
    "    \"\"\"Fetch articles from RSS feeds\"\"\"\n",
    "    articles = []\n",
    "    feed = feedparser.parse(feed_url)\n",
    "    for entry in feed.entries:\n",
    "        pub_date = None\n",
    "        if 'published' in entry:\n",
    "            try:\n",
    "                pub_date = parsedate_to_datetime(entry.published)\n",
    "            except Exception as e:\n",
    "                print(f\"Error parsing date: {e}\")\n",
    "                pub_date = datetime.utcnow()\n",
    "        article = {\n",
    "            \"title\": entry.get('title', ''),\n",
    "            \"content\": entry.get('summary', ''),\n",
    "            \"pub_date\": pub_date,\n",
    "            \"source_url\": entry.get('link', '')\n",
    "        }\n",
    "        articles.append(article)\n",
    "    return articles\n"
   ]
  },
  {
   "cell_type": "code",
   "execution_count": 145,
   "id": "5df473d3-514b-4472-94bc-3dc105b077e6",
   "metadata": {},
   "outputs": [],
   "source": [
    "articles = []\n",
    "for feed_url in rss_feeds:\n",
    "    try:\n",
    "        articles.extend(fetch_articles(feed_url))\n",
    "    except Exception as e:\n",
    "        logging.error(f\"Error parsing RSS feed {feed_url}: {str(e)}\")"
   ]
  },
  {
   "cell_type": "code",
   "execution_count": 146,
   "id": "74253d36-669e-4990-98da-9ce98e5e004b",
   "metadata": {},
   "outputs": [],
   "source": [
    "# unique_articles = []\n",
    "# for article in articles:\n",
    "#     if article not in unique_articles:\n",
    "#         unique_articles.append(article)"
   ]
  },
  {
   "cell_type": "code",
   "execution_count": 147,
   "id": "067e2dc9-ba0a-4cf0-aae0-24657b493b67",
   "metadata": {},
   "outputs": [],
   "source": [
    "# for article in unique_articles:\n",
    "#     print(article)"
   ]
  },
  {
   "cell_type": "code",
   "execution_count": 148,
   "id": "a23d91a5-a3cc-48bf-bd18-d3fb8606bead",
   "metadata": {},
   "outputs": [],
   "source": [
    "import sqlalchemy\n",
    "from sqlalchemy import create_engine, Column, Integer, String, Text, DateTime\n",
    "from sqlalchemy.orm import declarative_base\n",
    "from sqlalchemy.orm import sessionmaker\n",
    "import urllib.parse\n",
    "import mysql.connector"
   ]
  },
  {
   "cell_type": "code",
   "execution_count": 149,
   "id": "4083a1f3-d437-48b9-9a37-7441a7efa54a",
   "metadata": {},
   "outputs": [],
   "source": [
    "# !pip install mysql-connector-python"
   ]
  },
  {
   "cell_type": "code",
   "execution_count": 150,
   "id": "8ec58728-e8a1-4a2e-b896-cdb6568c8dd6",
   "metadata": {},
   "outputs": [],
   "source": [
    "username = 'root'\n",
    "password = 'Bhagavan%401074'\n",
    "host = 'localhost'\n",
    "database = 'news_classifier'\n",
    "database_url = f'mysql+mysqlconnector://{username}:{password}@{host}/{database}'\n",
    "engine = create_engine(database_url)\n",
    "Base = declarative_base()"
   ]
  },
  {
   "cell_type": "code",
   "execution_count": 151,
   "id": "67fa44c4-8eba-47e7-875e-ad1bfd9aff06",
   "metadata": {},
   "outputs": [],
   "source": [
    "from datetime import datetime\n",
    "# Define the NewsArticle model\n",
    "class NewsArticle(Base):\n",
    "    __tablename__ = 'news_articles'\n",
    "\n",
    "    id = Column(Integer, primary_key=True)\n",
    "    title = Column(Text, nullable=False)\n",
    "    content = Column(Text, nullable=False)\n",
    "    pub_date = Column(DateTime, default=datetime.utcnow)\n",
    "    source_url = Column(Text, unique=True)\n",
    "    category = Column(String(50),  nullable=True)\n",
    "\n",
    "# Create the table\n",
    "Base.metadata.create_all(engine)\n",
    "\n",
    "# Insert articles into the database\n",
    "Session = sessionmaker(bind=engine)\n",
    "session = Session()\n",
    "\n",
    "def store_articles(articles):\n",
    "    \"\"\"Store articles in the database\"\"\"\n",
    "    for article in articles:\n",
    "        existing_article = session.query(NewsArticle).filter_by(source_url=article['source_url']).first()\n",
    "        if not existing_article:\n",
    "            new_article = NewsArticle(\n",
    "                title=article['title'],\n",
    "                content=article['content'],\n",
    "                pub_date=article['pub_date'],\n",
    "                source_url=article['source_url']\n",
    "            )\n",
    "            session.add(new_article)\n",
    "    session.commit()\n"
   ]
  },
  {
   "cell_type": "code",
   "execution_count": 152,
   "id": "16615b5a-afe0-4e4e-87b2-14cc1c9d20bd",
   "metadata": {},
   "outputs": [],
   "source": [
    "import spacy"
   ]
  },
  {
   "cell_type": "code",
   "execution_count": 153,
   "id": "86acd4e0-8164-428f-88c4-1f5b6fcd2122",
   "metadata": {},
   "outputs": [],
   "source": [
    "nlp = spacy.load(\"en_core_web_sm\")\n",
    "\n",
    "# Define categories based on keywords\n",
    "category_keywords = {\n",
    "    \"Terrorism / protest / political unrest / riot\": [\"terrorism\", \"protest\", \"riot\", \"violence\", \"unrest\", \"attack\", \"militant\", \"demonstration\", \"march\", \"civil unrest\",\n",
    "            \"uprising\", \"revolt\", \"election\", \"democracy\", \"government\", \"law\", \"court\", \"legal\", \"lawsuit\", \"trial\", \"judge\",\n",
    "            \"politician\", \"policy\", \"voting\", \"defamation\", \"settlement\", \"democrats\", \"republicans\"],\n",
    "    \"Positive/Uplifting\": [\"happy\", \"joy\", \"success\", \"celebration\", \"achievement\", \"inspiring\", \"good news\", \"uplifting\", \"positive\", \n",
    "            \"motivation\", \"hero\", \"progress\", \"hope\", \"victory\", \"breakthrough\", \"compassion\", \"love\", \"kindness\", \"charity\", \n",
    "            \"support\", \"peace\", \"recovery\", \"healing\", \"solution\", \"growth\", \"innovation\", \"discovery\"],\n",
    "    \"Natural Disasters\": [\"earthquake\", \"flood\", \"hurricane\", \"disaster\", \"tsunami\", \"wildfire\", \"storm\", \"devastation\", \"natural disaster\", \n",
    "            \"catastrophe\", \"landslide\", \"volcano\", \"drought\", \"tornado\", \"blizzard\", \"cyclone\", \"evacuation\", \"emergency\", \n",
    "            \"destruction\", \"famine\", \"mudslide\", \"tidal wave\", \"eruption\", \"fire\", \"global warming\", \"climate change\", \n",
    "            \"heatwave\", \"hazard\"]\n",
    "}\n",
    "\n",
    "def categorize_article(content):\n",
    "    \"\"\"Categorize the article based on keywords\"\"\"\n",
    "    doc = nlp(content)\n",
    "    for category, keywords in category_keywords.items():\n",
    "        if any(keyword in doc.text.lower() for keyword in keywords):\n",
    "            return category\n",
    "    return \"Others\"\n"
   ]
  },
  {
   "cell_type": "code",
   "execution_count": 154,
   "id": "ebac73fc-9715-4fdd-99e7-4fac9c73429a",
   "metadata": {},
   "outputs": [],
   "source": [
    "from celery import Celery\n",
    "\n",
    "# Celery app setup\n",
    "celery_app = Celery('rss_parser', broker='redis://localhost:6379/0')\n",
    "\n",
    "# Task to process articles\n",
    "@celery_app.task\n",
    "def process_articles_task():\n",
    "    \"\"\"Fetch, store, and categorize articles\"\"\"\n",
    "    # Fetch new articles from RSS feeds\n",
    "    try:\n",
    "        articles = []\n",
    "        for feed_url in rss_feeds:\n",
    "            try:\n",
    "                articles.extend(fetch_articles(feed_url))\n",
    "            except Exception as e:\n",
    "                logging.error(f\"Error parsing RSS feed {feed_url}: {str(e)}\")\n",
    "        store_articles(articles)\n",
    "        print(session.query(NewsArticle).filter_by(category=None).all())\n",
    "        for article in session.query(NewsArticle).filter_by(category=None).all():\n",
    "            article.category = categorize_article(article.content)\n",
    "            session.commit()\n",
    "            logging.info(\"Articles successfully stored in the database.\")\n",
    "    except Exception as e:\n",
    "        logging.error(f\"Error while storing articles: {str(e)}\")\n",
    "        session.rollback()"
   ]
  },
  {
   "cell_type": "code",
   "execution_count": null,
   "id": "5b6ce82f-0eb4-48af-8523-0f5148d4ea6e",
   "metadata": {},
   "outputs": [],
   "source": [
    "if __name__ == \"__main__\":\n",
    "    store_articles(articles)\n",
    "    print(\"Article fetching and storing completed.\")"
   ]
  },
  {
   "cell_type": "code",
   "execution_count": 157,
   "id": "745e25ed-f83a-45a0-a27f-bc79bd7d0f49",
   "metadata": {},
   "outputs": [
    {
     "name": "stdout",
     "output_type": "stream",
     "text": [
      "[<__main__.NewsArticle object at 0x00000180FB8FB350>, <__main__.NewsArticle object at 0x00000180FB8ED490>, <__main__.NewsArticle object at 0x00000180FB8EC410>, <__main__.NewsArticle object at 0x00000180FB8EC200>, <__main__.NewsArticle object at 0x00000180FB8ED940>, <__main__.NewsArticle object at 0x00000180FB8EFB90>, <__main__.NewsArticle object at 0x00000180FB8ECB60>, <__main__.NewsArticle object at 0x00000180FB8EC6B0>, <__main__.NewsArticle object at 0x00000180FB8EE2A0>, <__main__.NewsArticle object at 0x00000180FB8EF050>, <__main__.NewsArticle object at 0x00000180FB8EED80>, <__main__.NewsArticle object at 0x00000180FB8EE210>, <__main__.NewsArticle object at 0x00000180FB8ED880>, <__main__.NewsArticle object at 0x00000180FB8EC650>, <__main__.NewsArticle object at 0x00000180FB8EEEA0>, <__main__.NewsArticle object at 0x00000180FB8ECD70>, <__main__.NewsArticle object at 0x00000180FB8ED8B0>, <__main__.NewsArticle object at 0x00000180FB8ED550>, <__main__.NewsArticle object at 0x00000180FB8EC140>, <__main__.NewsArticle object at 0x00000180FB8EFBC0>, <__main__.NewsArticle object at 0x00000180FB8EDC10>, <__main__.NewsArticle object at 0x00000180FB8EC1A0>, <__main__.NewsArticle object at 0x00000180FB8EFAD0>, <__main__.NewsArticle object at 0x00000180FB8EEB10>, <__main__.NewsArticle object at 0x00000180FB8EC7A0>, <__main__.NewsArticle object at 0x00000180FB8EC350>, <__main__.NewsArticle object at 0x00000180FB8EF110>, <__main__.NewsArticle object at 0x00000180FB8ECEF0>, <__main__.NewsArticle object at 0x00000180FB8ED790>, <__main__.NewsArticle object at 0x00000180FB8EF080>, <__main__.NewsArticle object at 0x00000180FB8EC4D0>, <__main__.NewsArticle object at 0x00000180FB8ED9D0>, <__main__.NewsArticle object at 0x00000180FB8EEF30>, <__main__.NewsArticle object at 0x00000180FB8EF6E0>, <__main__.NewsArticle object at 0x00000180FB8EDD30>, <__main__.NewsArticle object at 0x00000180FB8EF290>, <__main__.NewsArticle object at 0x00000180FB8ED700>, <__main__.NewsArticle object at 0x00000180FB8EF440>, <__main__.NewsArticle object at 0x00000180FB8EE750>, <__main__.NewsArticle object at 0x00000180FB8EE600>, <__main__.NewsArticle object at 0x00000180FB8EF1A0>, <__main__.NewsArticle object at 0x00000180FA078110>, <__main__.NewsArticle object at 0x00000180DFD8C500>, <__main__.NewsArticle object at 0x00000180DFD8D0D0>, <__main__.NewsArticle object at 0x00000180DFD8CB60>, <__main__.NewsArticle object at 0x00000180DFD8CD40>, <__main__.NewsArticle object at 0x00000180E0B74320>, <__main__.NewsArticle object at 0x00000180E0B74770>, <__main__.NewsArticle object at 0x00000180E0B74740>, <__main__.NewsArticle object at 0x00000180E0B74380>, <__main__.NewsArticle object at 0x00000180E0B74230>, <__main__.NewsArticle object at 0x00000180E0B740B0>, <__main__.NewsArticle object at 0x00000180E0B47E00>, <__main__.NewsArticle object at 0x00000180E0AB7260>, <__main__.NewsArticle object at 0x00000180E0AB73E0>, <__main__.NewsArticle object at 0x00000180E0AB64B0>, <__main__.NewsArticle object at 0x00000180DFDB8770>, <__main__.NewsArticle object at 0x00000180DFDB8E00>, <__main__.NewsArticle object at 0x0000018083A0B7A0>, <__main__.NewsArticle object at 0x00000180FCD56A80>, <__main__.NewsArticle object at 0x00000180FCD56750>, <__main__.NewsArticle object at 0x00000180FCD57AA0>, <__main__.NewsArticle object at 0x00000180FCD558B0>, <__main__.NewsArticle object at 0x00000180FCD56720>, <__main__.NewsArticle object at 0x00000180FCD547D0>, <__main__.NewsArticle object at 0x00000180FCD549B0>, <__main__.NewsArticle object at 0x00000180FCD55A00>, <__main__.NewsArticle object at 0x00000180FF4109E0>, <__main__.NewsArticle object at 0x00000180DFC5EA50>, <__main__.NewsArticle object at 0x00000180DFC5D4C0>, <__main__.NewsArticle object at 0x00000180DFC5F710>, <__main__.NewsArticle object at 0x00000180DFC5DF10>, <__main__.NewsArticle object at 0x00000180DFC5D400>, <__main__.NewsArticle object at 0x00000180F9356240>, <__main__.NewsArticle object at 0x00000180FB9515E0>, <__main__.NewsArticle object at 0x00000180FB951370>, <__main__.NewsArticle object at 0x00000180FB9529C0>, <__main__.NewsArticle object at 0x00000180FB950380>, <__main__.NewsArticle object at 0x00000180FB950830>, <__main__.NewsArticle object at 0x00000180FB952480>, <__main__.NewsArticle object at 0x00000180FB951760>, <__main__.NewsArticle object at 0x00000180FB950050>, <__main__.NewsArticle object at 0x00000180FB950500>, <__main__.NewsArticle object at 0x00000180FB950C20>, <__main__.NewsArticle object at 0x00000180FB952450>, <__main__.NewsArticle object at 0x00000180FB953830>, <__main__.NewsArticle object at 0x00000180FB952930>, <__main__.NewsArticle object at 0x00000180FB950440>, <__main__.NewsArticle object at 0x00000180FB952AB0>, <__main__.NewsArticle object at 0x00000180FB951C10>, <__main__.NewsArticle object at 0x00000180FB951EB0>, <__main__.NewsArticle object at 0x00000180FB952E40>, <__main__.NewsArticle object at 0x00000180FB953FB0>, <__main__.NewsArticle object at 0x00000180FB9519D0>, <__main__.NewsArticle object at 0x00000180FB950920>, <__main__.NewsArticle object at 0x00000180FB8FB890>, <__main__.NewsArticle object at 0x00000180FB8FA6F0>, <__main__.NewsArticle object at 0x00000180FB8F83E0>, <__main__.NewsArticle object at 0x00000180FB8FBDA0>, <__main__.NewsArticle object at 0x00000180FB8FA1B0>, <__main__.NewsArticle object at 0x00000180FB8FAF30>, <__main__.NewsArticle object at 0x00000180FB8FAD80>, <__main__.NewsArticle object at 0x00000180FB8FA4E0>, <__main__.NewsArticle object at 0x00000180FB8F95B0>, <__main__.NewsArticle object at 0x00000180FB8FA180>, <__main__.NewsArticle object at 0x00000180FB8FABA0>, <__main__.NewsArticle object at 0x00000180FB8FBA70>, <__main__.NewsArticle object at 0x00000180FB8FA2A0>, <__main__.NewsArticle object at 0x00000180FB8FBC50>, <__main__.NewsArticle object at 0x00000180FB8F84A0>, <__main__.NewsArticle object at 0x00000180FB8F8080>, <__main__.NewsArticle object at 0x00000180FB8F9D90>, <__main__.NewsArticle object at 0x00000180FB8FBF20>, <__main__.NewsArticle object at 0x00000180FB8F95E0>, <__main__.NewsArticle object at 0x00000180FB8F9550>, <__main__.NewsArticle object at 0x00000180FB8FB1A0>, <__main__.NewsArticle object at 0x00000180FB8F9790>, <__main__.NewsArticle object at 0x00000180FB8FA450>, <__main__.NewsArticle object at 0x00000180FB8FB320>, <__main__.NewsArticle object at 0x00000180FB8FBC20>, <__main__.NewsArticle object at 0x00000180FB8F99A0>, <__main__.NewsArticle object at 0x00000180FB8FB4A0>, <__main__.NewsArticle object at 0x00000180FB8FB8F0>, <__main__.NewsArticle object at 0x00000180FB8F9D00>, <__main__.NewsArticle object at 0x00000180FB8FABD0>, <__main__.NewsArticle object at 0x00000180FB8FBD10>, <__main__.NewsArticle object at 0x00000180FB8F8F80>, <__main__.NewsArticle object at 0x00000180FB8FA2D0>, <__main__.NewsArticle object at 0x00000180FB8FA360>, <__main__.NewsArticle object at 0x00000180DFC7D0D0>, <__main__.NewsArticle object at 0x00000180DFC7C2F0>, <__main__.NewsArticle object at 0x00000180DFC7D3A0>, <__main__.NewsArticle object at 0x00000180DFC7D490>, <__main__.NewsArticle object at 0x00000180DFC7D700>, <__main__.NewsArticle object at 0x00000180DFC7C7D0>, <__main__.NewsArticle object at 0x00000180DFC7D6D0>, <__main__.NewsArticle object at 0x00000180DFC7D4C0>, <__main__.NewsArticle object at 0x00000180FB8C7EF0>, <__main__.NewsArticle object at 0x00000180FB8C7F50>, <__main__.NewsArticle object at 0x00000180FB8C5040>, <__main__.NewsArticle object at 0x00000180FB8C5D00>, <__main__.NewsArticle object at 0x00000180FB8C6690>, <__main__.NewsArticle object at 0x00000180FB8C7830>, <__main__.NewsArticle object at 0x00000180FB8C5A30>, <__main__.NewsArticle object at 0x00000180FB8C5AC0>, <__main__.NewsArticle object at 0x00000180FB8C5910>, <__main__.NewsArticle object at 0x00000180FB8C6A20>, <__main__.NewsArticle object at 0x00000180FB8C4A10>, <__main__.NewsArticle object at 0x00000180FB8C78F0>, <__main__.NewsArticle object at 0x00000180FB8C7200>, <__main__.NewsArticle object at 0x00000180FB8C61E0>, <__main__.NewsArticle object at 0x00000180FB8C4EF0>, <__main__.NewsArticle object at 0x00000180FB8C5DF0>, <__main__.NewsArticle object at 0x00000180FB8C5A90>, <__main__.NewsArticle object at 0x00000180FB8C6450>, <__main__.NewsArticle object at 0x00000180FB8C6C90>, <__main__.NewsArticle object at 0x00000180FB8C4380>, <__main__.NewsArticle object at 0x00000180FB8C6C30>, <__main__.NewsArticle object at 0x00000180FB8C44A0>, <__main__.NewsArticle object at 0x00000180FB8C7D10>, <__main__.NewsArticle object at 0x00000180FB8C5BB0>, <__main__.NewsArticle object at 0x00000180FB8C5C10>, <__main__.NewsArticle object at 0x00000180FB8C4B30>, <__main__.NewsArticle object at 0x00000180FB8C5460>, <__main__.NewsArticle object at 0x00000180FB8C6AB0>, <__main__.NewsArticle object at 0x00000180FB8C72C0>, <__main__.NewsArticle object at 0x00000180FB8C6720>, <__main__.NewsArticle object at 0x00000180FB8C49B0>, <__main__.NewsArticle object at 0x00000180FB8C5100>, <__main__.NewsArticle object at 0x00000180FB8C4FE0>, <__main__.NewsArticle object at 0x00000180FB8C6660>, <__main__.NewsArticle object at 0x00000180FB8C4410>, <__main__.NewsArticle object at 0x00000180FB8C54F0>, <__main__.NewsArticle object at 0x00000180FB8C66C0>, <__main__.NewsArticle object at 0x00000180FB8C4CB0>, <__main__.NewsArticle object at 0x00000180FB8C5610>, <__main__.NewsArticle object at 0x00000180FB8C5E80>, <__main__.NewsArticle object at 0x00000180FB8C5EE0>, <__main__.NewsArticle object at 0x00000180FB8C50D0>, <__main__.NewsArticle object at 0x00000180FB8C7110>, <__main__.NewsArticle object at 0x00000180FB8C4DD0>, <__main__.NewsArticle object at 0x00000180FB8C5820>, <__main__.NewsArticle object at 0x00000180FB8C4D10>, <__main__.NewsArticle object at 0x00000180FB8C7290>, <__main__.NewsArticle object at 0x00000180FB8C7CE0>, <__main__.NewsArticle object at 0x00000180FB8C5760>, <__main__.NewsArticle object at 0x00000180FB8C6750>, <__main__.NewsArticle object at 0x00000180FB8C6090>, <__main__.NewsArticle object at 0x00000180FB8C6150>, <__main__.NewsArticle object at 0x00000180FB8C4620>, <__main__.NewsArticle object at 0x00000180FB8C71A0>, <__main__.NewsArticle object at 0x00000180FB8C65A0>, <__main__.NewsArticle object at 0x00000180FB9B02F0>, <__main__.NewsArticle object at 0x00000180FB9B0380>, <__main__.NewsArticle object at 0x00000180FB9B22D0>, <__main__.NewsArticle object at 0x00000180FB9B2B40>]\n"
     ]
    }
   ],
   "source": [
    "process_articles_task()"
   ]
  },
  {
   "cell_type": "code",
   "execution_count": 155,
   "id": "3cb8bf62-c505-40ad-b29a-d860c37c4d8d",
   "metadata": {},
   "outputs": [
    {
     "name": "stdout",
     "output_type": "stream",
     "text": [
      "Article fetching and categorization process started.\n"
     ]
    }
   ],
   "source": [
    "# if __name__ == \"__main__\":\n",
    "#     process_articles_task.delay()\n",
    "#     print(\"Article fetching and categorization process started.\")"
   ]
  },
  {
   "cell_type": "code",
   "execution_count": 14,
   "id": "0c74e7c7-dfb6-48b0-9141-3044af53215b",
   "metadata": {},
   "outputs": [],
   "source": [
    "# !npm install redis"
   ]
  },
  {
   "cell_type": "code",
   "execution_count": null,
   "id": "9a76538d-a13e-4830-81c7-296adaf6863c",
   "metadata": {},
   "outputs": [],
   "source": [
    "# CREATE TABLE news_articles (\n",
    "#     id INTEGER NOT NULL AUTO_INCREMENT PRIMARY KEY,\n",
    "#     title TEXT NOT NULL,\n",
    "#     content TEXT NOT NULL,\n",
    "#     pub_date DATETIME,\n",
    "#     source_url VARCHAR(255) NOT NULL UNIQUE,\n",
    "#     category TEXT\n",
    "#     );"
   ]
  }
 ],
 "metadata": {
  "kernelspec": {
   "display_name": "Python 3 (ipykernel)",
   "language": "python",
   "name": "python3"
  },
  "language_info": {
   "codemirror_mode": {
    "name": "ipython",
    "version": 3
   },
   "file_extension": ".py",
   "mimetype": "text/x-python",
   "name": "python",
   "nbconvert_exporter": "python",
   "pygments_lexer": "ipython3",
   "version": "3.12.0"
  }
 },
 "nbformat": 4,
 "nbformat_minor": 5
}
